{
  "nbformat": 4,
  "nbformat_minor": 0,
  "metadata": {
    "colab": {
      "provenance": [],
      "authorship_tag": "ABX9TyP1D0vxN/eq694mzPrvlyrk",
      "include_colab_link": true
    },
    "kernelspec": {
      "name": "python3",
      "display_name": "Python 3"
    },
    "language_info": {
      "name": "python"
    }
  },
  "cells": [
    {
      "cell_type": "markdown",
      "metadata": {
        "id": "view-in-github",
        "colab_type": "text"
      },
      "source": [
        "<a href=\"https://colab.research.google.com/github/Wolf123987/News-classification-in-different-catagory-/blob/main/Classification_of_news_in_to_different_catagory_.ipynb\" target=\"_parent\"><img src=\"https://colab.research.google.com/assets/colab-badge.svg\" alt=\"Open In Colab\"/></a>"
      ]
    },
    {
      "cell_type": "markdown",
      "source": [
        "***Importing required libraries ***"
      ],
      "metadata": {
        "id": "7AgZ-llek4kn"
      }
    },
    {
      "cell_type": "code",
      "execution_count": 46,
      "metadata": {
        "id": "oVjxzX1iZAel"
      },
      "outputs": [],
      "source": [
        "import pandas as pd\n",
        "import numpy as np"
      ]
    },
    {
      "cell_type": "code",
      "source": [
        "from sklearn.feature_extraction.text import CountVectorizer\n",
        "from sklearn.model_selection import train_test_split\n",
        "from sklearn.naive_bayes import MultinomialNB"
      ],
      "metadata": {
        "id": "TaszPjY9Zcns"
      },
      "execution_count": 47,
      "outputs": []
    },
    {
      "cell_type": "code",
      "source": [
        "from google.colab import files "
      ],
      "metadata": {
        "id": "Lj1dxTWKZeOV"
      },
      "execution_count": 48,
      "outputs": []
    },
    {
      "cell_type": "code",
      "source": [
        "sharma = pd.read_csv(\"https://raw.githubusercontent.com/amankharwal/Website-data/master/bbc-news-data.csv\", sep='\\t')"
      ],
      "metadata": {
        "id": "YFzutsefchHP"
      },
      "execution_count": 49,
      "outputs": []
    },
    {
      "cell_type": "code",
      "source": [
        "sharma.head(25)"
      ],
      "metadata": {
        "colab": {
          "base_uri": "https://localhost:8080/",
          "height": 833
        },
        "id": "cRiBvo3kcrQe",
        "outputId": "3bfbb5ca-9e3f-447a-fd6b-4fe19479d19c"
      },
      "execution_count": 50,
      "outputs": [
        {
          "output_type": "execute_result",
          "data": {
            "text/plain": [
              "    category filename                              title  \\\n",
              "0   business  001.txt  Ad sales boost Time Warner profit   \n",
              "1   business  002.txt   Dollar gains on Greenspan speech   \n",
              "2   business  003.txt  Yukos unit buyer faces loan claim   \n",
              "3   business  004.txt  High fuel prices hit BA's profits   \n",
              "4   business  005.txt  Pernod takeover talk lifts Domecq   \n",
              "5   business  006.txt   Japan narrowly escapes recession   \n",
              "6   business  007.txt   Jobs growth still slow in the US   \n",
              "7   business  008.txt   India calls for fair trade rules   \n",
              "8   business  009.txt  Ethiopia's crop production up 24%   \n",
              "9   business  010.txt  Court rejects $280bn tobacco case   \n",
              "10  business  011.txt  Ask Jeeves tips online ad revival   \n",
              "11  business  012.txt   Indonesians face fuel price rise   \n",
              "12  business  013.txt     Peugeot deal boosts Mitsubishi   \n",
              "13  business  014.txt   Telegraph newspapers axe 90 jobs   \n",
              "14  business  015.txt   Air passengers win new EU rights   \n",
              "15  business  016.txt   China keeps tight rein on credit   \n",
              "16  business  017.txt    Parmalat boasts doubled profits   \n",
              "17  business  018.txt  India's rupee hits five-year high   \n",
              "18  business  019.txt    India widens access to telecoms   \n",
              "19  business  020.txt  Call centre users 'lose patience'   \n",
              "20  business  021.txt   Rank 'set to sell off film unit'   \n",
              "21  business  022.txt  Sluggish economy hits German jobs   \n",
              "22  business  023.txt  Mixed signals from French economy   \n",
              "23  business  024.txt   US trade gap hits record in 2004   \n",
              "24  business  025.txt   Yukos loses US bankruptcy battle   \n",
              "\n",
              "                                              content  \n",
              "0    Quarterly profits at US media giant TimeWarne...  \n",
              "1    The dollar has hit its highest level against ...  \n",
              "2    The owners of embattled Russian oil giant Yuk...  \n",
              "3    British Airways has blamed high fuel prices f...  \n",
              "4    Shares in UK drinks and food firm Allied Dome...  \n",
              "5    Japan's economy teetered on the brink of a te...  \n",
              "6    The US created fewer jobs than expected in Ja...  \n",
              "7    India, which attends the G7 meeting of seven ...  \n",
              "8    Ethiopia produced 14.27 million tonnes of cro...  \n",
              "9    A US government claim accusing the country's ...  \n",
              "10   Ask Jeeves has become the third leading onlin...  \n",
              "11   Indonesia's government has confirmed it is co...  \n",
              "12   Struggling Japanese car maker Mitsubishi Moto...  \n",
              "13   The Daily and Sunday Telegraph newspapers are...  \n",
              "14   Air passengers who are unable to board their ...  \n",
              "15   China's efforts to stop the economy from over...  \n",
              "16   Parmalat, the Italian food group at the centr...  \n",
              "17   India's rupee has hit a five-year high after ...  \n",
              "18   India has raised the limit for foreign direct...  \n",
              "19   Customers trying to get through to call centr...  \n",
              "20   Leisure group Rank could unveil plans to deme...  \n",
              "21   The number of people out of work in Europe's ...  \n",
              "22   The French economy picked up speed at the end...  \n",
              "23   The gap between US exports and imports hit an...  \n",
              "24   A judge has dismissed an attempt by Russian o...  "
            ],
            "text/html": [
              "\n",
              "  <div id=\"df-b0505c58-d8b2-4f3f-bed6-594d92bbcede\">\n",
              "    <div class=\"colab-df-container\">\n",
              "      <div>\n",
              "<style scoped>\n",
              "    .dataframe tbody tr th:only-of-type {\n",
              "        vertical-align: middle;\n",
              "    }\n",
              "\n",
              "    .dataframe tbody tr th {\n",
              "        vertical-align: top;\n",
              "    }\n",
              "\n",
              "    .dataframe thead th {\n",
              "        text-align: right;\n",
              "    }\n",
              "</style>\n",
              "<table border=\"1\" class=\"dataframe\">\n",
              "  <thead>\n",
              "    <tr style=\"text-align: right;\">\n",
              "      <th></th>\n",
              "      <th>category</th>\n",
              "      <th>filename</th>\n",
              "      <th>title</th>\n",
              "      <th>content</th>\n",
              "    </tr>\n",
              "  </thead>\n",
              "  <tbody>\n",
              "    <tr>\n",
              "      <th>0</th>\n",
              "      <td>business</td>\n",
              "      <td>001.txt</td>\n",
              "      <td>Ad sales boost Time Warner profit</td>\n",
              "      <td>Quarterly profits at US media giant TimeWarne...</td>\n",
              "    </tr>\n",
              "    <tr>\n",
              "      <th>1</th>\n",
              "      <td>business</td>\n",
              "      <td>002.txt</td>\n",
              "      <td>Dollar gains on Greenspan speech</td>\n",
              "      <td>The dollar has hit its highest level against ...</td>\n",
              "    </tr>\n",
              "    <tr>\n",
              "      <th>2</th>\n",
              "      <td>business</td>\n",
              "      <td>003.txt</td>\n",
              "      <td>Yukos unit buyer faces loan claim</td>\n",
              "      <td>The owners of embattled Russian oil giant Yuk...</td>\n",
              "    </tr>\n",
              "    <tr>\n",
              "      <th>3</th>\n",
              "      <td>business</td>\n",
              "      <td>004.txt</td>\n",
              "      <td>High fuel prices hit BA's profits</td>\n",
              "      <td>British Airways has blamed high fuel prices f...</td>\n",
              "    </tr>\n",
              "    <tr>\n",
              "      <th>4</th>\n",
              "      <td>business</td>\n",
              "      <td>005.txt</td>\n",
              "      <td>Pernod takeover talk lifts Domecq</td>\n",
              "      <td>Shares in UK drinks and food firm Allied Dome...</td>\n",
              "    </tr>\n",
              "    <tr>\n",
              "      <th>5</th>\n",
              "      <td>business</td>\n",
              "      <td>006.txt</td>\n",
              "      <td>Japan narrowly escapes recession</td>\n",
              "      <td>Japan's economy teetered on the brink of a te...</td>\n",
              "    </tr>\n",
              "    <tr>\n",
              "      <th>6</th>\n",
              "      <td>business</td>\n",
              "      <td>007.txt</td>\n",
              "      <td>Jobs growth still slow in the US</td>\n",
              "      <td>The US created fewer jobs than expected in Ja...</td>\n",
              "    </tr>\n",
              "    <tr>\n",
              "      <th>7</th>\n",
              "      <td>business</td>\n",
              "      <td>008.txt</td>\n",
              "      <td>India calls for fair trade rules</td>\n",
              "      <td>India, which attends the G7 meeting of seven ...</td>\n",
              "    </tr>\n",
              "    <tr>\n",
              "      <th>8</th>\n",
              "      <td>business</td>\n",
              "      <td>009.txt</td>\n",
              "      <td>Ethiopia's crop production up 24%</td>\n",
              "      <td>Ethiopia produced 14.27 million tonnes of cro...</td>\n",
              "    </tr>\n",
              "    <tr>\n",
              "      <th>9</th>\n",
              "      <td>business</td>\n",
              "      <td>010.txt</td>\n",
              "      <td>Court rejects $280bn tobacco case</td>\n",
              "      <td>A US government claim accusing the country's ...</td>\n",
              "    </tr>\n",
              "    <tr>\n",
              "      <th>10</th>\n",
              "      <td>business</td>\n",
              "      <td>011.txt</td>\n",
              "      <td>Ask Jeeves tips online ad revival</td>\n",
              "      <td>Ask Jeeves has become the third leading onlin...</td>\n",
              "    </tr>\n",
              "    <tr>\n",
              "      <th>11</th>\n",
              "      <td>business</td>\n",
              "      <td>012.txt</td>\n",
              "      <td>Indonesians face fuel price rise</td>\n",
              "      <td>Indonesia's government has confirmed it is co...</td>\n",
              "    </tr>\n",
              "    <tr>\n",
              "      <th>12</th>\n",
              "      <td>business</td>\n",
              "      <td>013.txt</td>\n",
              "      <td>Peugeot deal boosts Mitsubishi</td>\n",
              "      <td>Struggling Japanese car maker Mitsubishi Moto...</td>\n",
              "    </tr>\n",
              "    <tr>\n",
              "      <th>13</th>\n",
              "      <td>business</td>\n",
              "      <td>014.txt</td>\n",
              "      <td>Telegraph newspapers axe 90 jobs</td>\n",
              "      <td>The Daily and Sunday Telegraph newspapers are...</td>\n",
              "    </tr>\n",
              "    <tr>\n",
              "      <th>14</th>\n",
              "      <td>business</td>\n",
              "      <td>015.txt</td>\n",
              "      <td>Air passengers win new EU rights</td>\n",
              "      <td>Air passengers who are unable to board their ...</td>\n",
              "    </tr>\n",
              "    <tr>\n",
              "      <th>15</th>\n",
              "      <td>business</td>\n",
              "      <td>016.txt</td>\n",
              "      <td>China keeps tight rein on credit</td>\n",
              "      <td>China's efforts to stop the economy from over...</td>\n",
              "    </tr>\n",
              "    <tr>\n",
              "      <th>16</th>\n",
              "      <td>business</td>\n",
              "      <td>017.txt</td>\n",
              "      <td>Parmalat boasts doubled profits</td>\n",
              "      <td>Parmalat, the Italian food group at the centr...</td>\n",
              "    </tr>\n",
              "    <tr>\n",
              "      <th>17</th>\n",
              "      <td>business</td>\n",
              "      <td>018.txt</td>\n",
              "      <td>India's rupee hits five-year high</td>\n",
              "      <td>India's rupee has hit a five-year high after ...</td>\n",
              "    </tr>\n",
              "    <tr>\n",
              "      <th>18</th>\n",
              "      <td>business</td>\n",
              "      <td>019.txt</td>\n",
              "      <td>India widens access to telecoms</td>\n",
              "      <td>India has raised the limit for foreign direct...</td>\n",
              "    </tr>\n",
              "    <tr>\n",
              "      <th>19</th>\n",
              "      <td>business</td>\n",
              "      <td>020.txt</td>\n",
              "      <td>Call centre users 'lose patience'</td>\n",
              "      <td>Customers trying to get through to call centr...</td>\n",
              "    </tr>\n",
              "    <tr>\n",
              "      <th>20</th>\n",
              "      <td>business</td>\n",
              "      <td>021.txt</td>\n",
              "      <td>Rank 'set to sell off film unit'</td>\n",
              "      <td>Leisure group Rank could unveil plans to deme...</td>\n",
              "    </tr>\n",
              "    <tr>\n",
              "      <th>21</th>\n",
              "      <td>business</td>\n",
              "      <td>022.txt</td>\n",
              "      <td>Sluggish economy hits German jobs</td>\n",
              "      <td>The number of people out of work in Europe's ...</td>\n",
              "    </tr>\n",
              "    <tr>\n",
              "      <th>22</th>\n",
              "      <td>business</td>\n",
              "      <td>023.txt</td>\n",
              "      <td>Mixed signals from French economy</td>\n",
              "      <td>The French economy picked up speed at the end...</td>\n",
              "    </tr>\n",
              "    <tr>\n",
              "      <th>23</th>\n",
              "      <td>business</td>\n",
              "      <td>024.txt</td>\n",
              "      <td>US trade gap hits record in 2004</td>\n",
              "      <td>The gap between US exports and imports hit an...</td>\n",
              "    </tr>\n",
              "    <tr>\n",
              "      <th>24</th>\n",
              "      <td>business</td>\n",
              "      <td>025.txt</td>\n",
              "      <td>Yukos loses US bankruptcy battle</td>\n",
              "      <td>A judge has dismissed an attempt by Russian o...</td>\n",
              "    </tr>\n",
              "  </tbody>\n",
              "</table>\n",
              "</div>\n",
              "      <button class=\"colab-df-convert\" onclick=\"convertToInteractive('df-b0505c58-d8b2-4f3f-bed6-594d92bbcede')\"\n",
              "              title=\"Convert this dataframe to an interactive table.\"\n",
              "              style=\"display:none;\">\n",
              "        \n",
              "  <svg xmlns=\"http://www.w3.org/2000/svg\" height=\"24px\"viewBox=\"0 0 24 24\"\n",
              "       width=\"24px\">\n",
              "    <path d=\"M0 0h24v24H0V0z\" fill=\"none\"/>\n",
              "    <path d=\"M18.56 5.44l.94 2.06.94-2.06 2.06-.94-2.06-.94-.94-2.06-.94 2.06-2.06.94zm-11 1L8.5 8.5l.94-2.06 2.06-.94-2.06-.94L8.5 2.5l-.94 2.06-2.06.94zm10 10l.94 2.06.94-2.06 2.06-.94-2.06-.94-.94-2.06-.94 2.06-2.06.94z\"/><path d=\"M17.41 7.96l-1.37-1.37c-.4-.4-.92-.59-1.43-.59-.52 0-1.04.2-1.43.59L10.3 9.45l-7.72 7.72c-.78.78-.78 2.05 0 2.83L4 21.41c.39.39.9.59 1.41.59.51 0 1.02-.2 1.41-.59l7.78-7.78 2.81-2.81c.8-.78.8-2.07 0-2.86zM5.41 20L4 18.59l7.72-7.72 1.47 1.35L5.41 20z\"/>\n",
              "  </svg>\n",
              "      </button>\n",
              "      \n",
              "  <style>\n",
              "    .colab-df-container {\n",
              "      display:flex;\n",
              "      flex-wrap:wrap;\n",
              "      gap: 12px;\n",
              "    }\n",
              "\n",
              "    .colab-df-convert {\n",
              "      background-color: #E8F0FE;\n",
              "      border: none;\n",
              "      border-radius: 50%;\n",
              "      cursor: pointer;\n",
              "      display: none;\n",
              "      fill: #1967D2;\n",
              "      height: 32px;\n",
              "      padding: 0 0 0 0;\n",
              "      width: 32px;\n",
              "    }\n",
              "\n",
              "    .colab-df-convert:hover {\n",
              "      background-color: #E2EBFA;\n",
              "      box-shadow: 0px 1px 2px rgba(60, 64, 67, 0.3), 0px 1px 3px 1px rgba(60, 64, 67, 0.15);\n",
              "      fill: #174EA6;\n",
              "    }\n",
              "\n",
              "    [theme=dark] .colab-df-convert {\n",
              "      background-color: #3B4455;\n",
              "      fill: #D2E3FC;\n",
              "    }\n",
              "\n",
              "    [theme=dark] .colab-df-convert:hover {\n",
              "      background-color: #434B5C;\n",
              "      box-shadow: 0px 1px 3px 1px rgba(0, 0, 0, 0.15);\n",
              "      filter: drop-shadow(0px 1px 2px rgba(0, 0, 0, 0.3));\n",
              "      fill: #FFFFFF;\n",
              "    }\n",
              "  </style>\n",
              "\n",
              "      <script>\n",
              "        const buttonEl =\n",
              "          document.querySelector('#df-b0505c58-d8b2-4f3f-bed6-594d92bbcede button.colab-df-convert');\n",
              "        buttonEl.style.display =\n",
              "          google.colab.kernel.accessAllowed ? 'block' : 'none';\n",
              "\n",
              "        async function convertToInteractive(key) {\n",
              "          const element = document.querySelector('#df-b0505c58-d8b2-4f3f-bed6-594d92bbcede');\n",
              "          const dataTable =\n",
              "            await google.colab.kernel.invokeFunction('convertToInteractive',\n",
              "                                                     [key], {});\n",
              "          if (!dataTable) return;\n",
              "\n",
              "          const docLinkHtml = 'Like what you see? Visit the ' +\n",
              "            '<a target=\"_blank\" href=https://colab.research.google.com/notebooks/data_table.ipynb>data table notebook</a>'\n",
              "            + ' to learn more about interactive tables.';\n",
              "          element.innerHTML = '';\n",
              "          dataTable['output_type'] = 'display_data';\n",
              "          await google.colab.output.renderOutput(dataTable, element);\n",
              "          const docLink = document.createElement('div');\n",
              "          docLink.innerHTML = docLinkHtml;\n",
              "          element.appendChild(docLink);\n",
              "        }\n",
              "      </script>\n",
              "    </div>\n",
              "  </div>\n",
              "  "
            ]
          },
          "metadata": {},
          "execution_count": 50
        }
      ]
    },
    {
      "cell_type": "code",
      "source": [
        "sharma.columns"
      ],
      "metadata": {
        "colab": {
          "base_uri": "https://localhost:8080/"
        },
        "id": "dNxlA7Cflnt1",
        "outputId": "905cc4bb-10f9-478d-bed6-4652636c3aab"
      },
      "execution_count": 52,
      "outputs": [
        {
          "output_type": "execute_result",
          "data": {
            "text/plain": [
              "Index(['category', 'filename', 'title', 'content'], dtype='object')"
            ]
          },
          "metadata": {},
          "execution_count": 52
        }
      ]
    },
    {
      "cell_type": "code",
      "source": [
        "sharma.describe()"
      ],
      "metadata": {
        "colab": {
          "base_uri": "https://localhost:8080/",
          "height": 175
        },
        "id": "4bTq4xPElrRi",
        "outputId": "07aa95c0-b067-4f7f-f689-290986119c7b"
      },
      "execution_count": 53,
      "outputs": [
        {
          "output_type": "execute_result",
          "data": {
            "text/plain": [
              "       category filename                             title  \\\n",
              "count      2225     2225                              2225   \n",
              "unique        5      511                              2096   \n",
              "top       sport  001.txt  Microsoft seeking spyware trojan   \n",
              "freq        511        5                                 2   \n",
              "\n",
              "                                                  content  \n",
              "count                                                2225  \n",
              "unique                                               2092  \n",
              "top      Microsoft has warned PC users to update their...  \n",
              "freq                                                    2  "
            ],
            "text/html": [
              "\n",
              "  <div id=\"df-8bd0ca4d-7192-445c-b3f1-9767e4e1bb1f\">\n",
              "    <div class=\"colab-df-container\">\n",
              "      <div>\n",
              "<style scoped>\n",
              "    .dataframe tbody tr th:only-of-type {\n",
              "        vertical-align: middle;\n",
              "    }\n",
              "\n",
              "    .dataframe tbody tr th {\n",
              "        vertical-align: top;\n",
              "    }\n",
              "\n",
              "    .dataframe thead th {\n",
              "        text-align: right;\n",
              "    }\n",
              "</style>\n",
              "<table border=\"1\" class=\"dataframe\">\n",
              "  <thead>\n",
              "    <tr style=\"text-align: right;\">\n",
              "      <th></th>\n",
              "      <th>category</th>\n",
              "      <th>filename</th>\n",
              "      <th>title</th>\n",
              "      <th>content</th>\n",
              "    </tr>\n",
              "  </thead>\n",
              "  <tbody>\n",
              "    <tr>\n",
              "      <th>count</th>\n",
              "      <td>2225</td>\n",
              "      <td>2225</td>\n",
              "      <td>2225</td>\n",
              "      <td>2225</td>\n",
              "    </tr>\n",
              "    <tr>\n",
              "      <th>unique</th>\n",
              "      <td>5</td>\n",
              "      <td>511</td>\n",
              "      <td>2096</td>\n",
              "      <td>2092</td>\n",
              "    </tr>\n",
              "    <tr>\n",
              "      <th>top</th>\n",
              "      <td>sport</td>\n",
              "      <td>001.txt</td>\n",
              "      <td>Microsoft seeking spyware trojan</td>\n",
              "      <td>Microsoft has warned PC users to update their...</td>\n",
              "    </tr>\n",
              "    <tr>\n",
              "      <th>freq</th>\n",
              "      <td>511</td>\n",
              "      <td>5</td>\n",
              "      <td>2</td>\n",
              "      <td>2</td>\n",
              "    </tr>\n",
              "  </tbody>\n",
              "</table>\n",
              "</div>\n",
              "      <button class=\"colab-df-convert\" onclick=\"convertToInteractive('df-8bd0ca4d-7192-445c-b3f1-9767e4e1bb1f')\"\n",
              "              title=\"Convert this dataframe to an interactive table.\"\n",
              "              style=\"display:none;\">\n",
              "        \n",
              "  <svg xmlns=\"http://www.w3.org/2000/svg\" height=\"24px\"viewBox=\"0 0 24 24\"\n",
              "       width=\"24px\">\n",
              "    <path d=\"M0 0h24v24H0V0z\" fill=\"none\"/>\n",
              "    <path d=\"M18.56 5.44l.94 2.06.94-2.06 2.06-.94-2.06-.94-.94-2.06-.94 2.06-2.06.94zm-11 1L8.5 8.5l.94-2.06 2.06-.94-2.06-.94L8.5 2.5l-.94 2.06-2.06.94zm10 10l.94 2.06.94-2.06 2.06-.94-2.06-.94-.94-2.06-.94 2.06-2.06.94z\"/><path d=\"M17.41 7.96l-1.37-1.37c-.4-.4-.92-.59-1.43-.59-.52 0-1.04.2-1.43.59L10.3 9.45l-7.72 7.72c-.78.78-.78 2.05 0 2.83L4 21.41c.39.39.9.59 1.41.59.51 0 1.02-.2 1.41-.59l7.78-7.78 2.81-2.81c.8-.78.8-2.07 0-2.86zM5.41 20L4 18.59l7.72-7.72 1.47 1.35L5.41 20z\"/>\n",
              "  </svg>\n",
              "      </button>\n",
              "      \n",
              "  <style>\n",
              "    .colab-df-container {\n",
              "      display:flex;\n",
              "      flex-wrap:wrap;\n",
              "      gap: 12px;\n",
              "    }\n",
              "\n",
              "    .colab-df-convert {\n",
              "      background-color: #E8F0FE;\n",
              "      border: none;\n",
              "      border-radius: 50%;\n",
              "      cursor: pointer;\n",
              "      display: none;\n",
              "      fill: #1967D2;\n",
              "      height: 32px;\n",
              "      padding: 0 0 0 0;\n",
              "      width: 32px;\n",
              "    }\n",
              "\n",
              "    .colab-df-convert:hover {\n",
              "      background-color: #E2EBFA;\n",
              "      box-shadow: 0px 1px 2px rgba(60, 64, 67, 0.3), 0px 1px 3px 1px rgba(60, 64, 67, 0.15);\n",
              "      fill: #174EA6;\n",
              "    }\n",
              "\n",
              "    [theme=dark] .colab-df-convert {\n",
              "      background-color: #3B4455;\n",
              "      fill: #D2E3FC;\n",
              "    }\n",
              "\n",
              "    [theme=dark] .colab-df-convert:hover {\n",
              "      background-color: #434B5C;\n",
              "      box-shadow: 0px 1px 3px 1px rgba(0, 0, 0, 0.15);\n",
              "      filter: drop-shadow(0px 1px 2px rgba(0, 0, 0, 0.3));\n",
              "      fill: #FFFFFF;\n",
              "    }\n",
              "  </style>\n",
              "\n",
              "      <script>\n",
              "        const buttonEl =\n",
              "          document.querySelector('#df-8bd0ca4d-7192-445c-b3f1-9767e4e1bb1f button.colab-df-convert');\n",
              "        buttonEl.style.display =\n",
              "          google.colab.kernel.accessAllowed ? 'block' : 'none';\n",
              "\n",
              "        async function convertToInteractive(key) {\n",
              "          const element = document.querySelector('#df-8bd0ca4d-7192-445c-b3f1-9767e4e1bb1f');\n",
              "          const dataTable =\n",
              "            await google.colab.kernel.invokeFunction('convertToInteractive',\n",
              "                                                     [key], {});\n",
              "          if (!dataTable) return;\n",
              "\n",
              "          const docLinkHtml = 'Like what you see? Visit the ' +\n",
              "            '<a target=\"_blank\" href=https://colab.research.google.com/notebooks/data_table.ipynb>data table notebook</a>'\n",
              "            + ' to learn more about interactive tables.';\n",
              "          element.innerHTML = '';\n",
              "          dataTable['output_type'] = 'display_data';\n",
              "          await google.colab.output.renderOutput(dataTable, element);\n",
              "          const docLink = document.createElement('div');\n",
              "          docLink.innerHTML = docLinkHtml;\n",
              "          element.appendChild(docLink);\n",
              "        }\n",
              "      </script>\n",
              "    </div>\n",
              "  </div>\n",
              "  "
            ]
          },
          "metadata": {},
          "execution_count": 53
        }
      ]
    },
    {
      "cell_type": "code",
      "source": [
        "sharma.shape"
      ],
      "metadata": {
        "colab": {
          "base_uri": "https://localhost:8080/"
        },
        "id": "MXMgbGVQl15R",
        "outputId": "95e65c50-b1fb-49e4-fe55-0854533e4511"
      },
      "execution_count": 55,
      "outputs": [
        {
          "output_type": "execute_result",
          "data": {
            "text/plain": [
              "(2225, 4)"
            ]
          },
          "metadata": {},
          "execution_count": 55
        }
      ]
    },
    {
      "cell_type": "code",
      "source": [
        "sharma.isna().sum()"
      ],
      "metadata": {
        "colab": {
          "base_uri": "https://localhost:8080/"
        },
        "id": "RYLSd0Qgdc5k",
        "outputId": "a25b8c1b-2a6a-4e1e-da6a-72fe7fe6bb15"
      },
      "execution_count": 51,
      "outputs": [
        {
          "output_type": "execute_result",
          "data": {
            "text/plain": [
              "category    0\n",
              "filename    0\n",
              "title       0\n",
              "content     0\n",
              "dtype: int64"
            ]
          },
          "metadata": {},
          "execution_count": 51
        }
      ]
    },
    {
      "cell_type": "code",
      "source": [
        "sharma[\"category\"].value_counts()"
      ],
      "metadata": {
        "colab": {
          "base_uri": "https://localhost:8080/"
        },
        "id": "8K8vflbQeHys",
        "outputId": "b49625dc-b5f3-4b92-ef9e-22202cb3310f"
      },
      "execution_count": 16,
      "outputs": [
        {
          "output_type": "execute_result",
          "data": {
            "text/plain": [
              "sport            511\n",
              "business         510\n",
              "politics         417\n",
              "tech             401\n",
              "entertainment    386\n",
              "Name: category, dtype: int64"
            ]
          },
          "metadata": {},
          "execution_count": 16
        }
      ]
    },
    {
      "cell_type": "code",
      "source": [
        "sharma = sharma[[\"title\", \"category\"]]\n",
        "\n",
        "x = np.array(data[\"title\"])\n",
        "y = np.array(data[\"category\"])\n",
        "\n",
        "cv = CountVectorizer() ## to convert the text(words) in to numbers\n",
        "X = cv.fit_transform(x)\n",
        "X_train, X_test, y_train, y_test = train_test_split(X, y, test_size=0.33, random_state=42)"
      ],
      "metadata": {
        "id": "cA-lQRgHhjh9"
      },
      "execution_count": 40,
      "outputs": []
    },
    {
      "cell_type": "code",
      "source": [
        "model = MultinomialNB()\n",
        "model.fit(X_train,y_train)"
      ],
      "metadata": {
        "colab": {
          "base_uri": "https://localhost:8080/"
        },
        "id": "W1ob6bQPi_Ac",
        "outputId": "4e7b8fc6-318b-4934-99bb-0b176e428b43"
      },
      "execution_count": 41,
      "outputs": [
        {
          "output_type": "execute_result",
          "data": {
            "text/plain": [
              "MultinomialNB()"
            ]
          },
          "metadata": {},
          "execution_count": 41
        }
      ]
    },
    {
      "cell_type": "code",
      "source": [
        "user = input(\"Enter a Text: \")\n",
        "sharma = cv.transform([user]).toarray()\n",
        "output = model.predict(sharma)\n",
        "print(output)"
      ],
      "metadata": {
        "colab": {
          "base_uri": "https://localhost:8080/"
        },
        "id": "hkeWa08XjafG",
        "outputId": "8dd41052-f280-4b3b-8960-5e406cf97170"
      },
      "execution_count": 58,
      "outputs": [
        {
          "output_type": "stream",
          "name": "stdout",
          "text": [
            "Enter a Text: trade\n",
            "['business']\n"
          ]
        }
      ]
    },
    {
      "cell_type": "markdown",
      "source": [
        "***by  giving any word from the input feartues : \"title \" the model will predict its catagory ***"
      ],
      "metadata": {
        "id": "kbEl4Mfkj3CV"
      }
    }
  ]
}